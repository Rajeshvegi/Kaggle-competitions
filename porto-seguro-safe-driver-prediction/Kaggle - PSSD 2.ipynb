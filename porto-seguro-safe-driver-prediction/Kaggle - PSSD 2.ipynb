{
 "cells": [
  {
   "cell_type": "code",
   "execution_count": 188,
   "metadata": {},
   "outputs": [
    {
     "name": "stdout",
     "output_type": "stream",
     "text": [
      "welcome\n"
     ]
    }
   ],
   "source": [
    "import numpy as np # linear algebra\n",
    "from sklearn.model_selection import train_test_split\n",
    "import pandas as pd # data processing, CSV file I/O (e.g. pd.read_csv)\n",
    "import os\n",
    "import gc\n",
    "import matplotlib.pyplot as plt\n",
    "import seaborn as sns\n",
    "import xgboost as xgb\n",
    "#from imblearn.over_sampling import SMOTE\n",
    "from rgf.sklearn import RGFClassifier\n",
    "from sklearn.model_selection import KFold\n",
    "from sklearn.preprocessing import LabelEncoder\n",
    "from numba import jit\n",
    "import time\n",
    "import gc\n",
    "import subprocess\n",
    "import glob\n",
    "\n",
    "print ('welcome')"
   ]
  },
  {
   "cell_type": "code",
   "execution_count": 189,
   "metadata": {},
   "outputs": [
    {
     "name": "stdout",
     "output_type": "stream",
     "text": [
      "File Read\n"
     ]
    }
   ],
   "source": [
    "df_c_file = pd.read_csv('D://Kaggle/fresh/train/train.csv')\n",
    "df_c_file_test = pd.read_csv('D://Kaggle/fresh/test/test.csv')\n",
    "\n",
    "print ('File Read')\n",
    "#df_train, df_test = train_test_split(df_c_file, test_size=0.2)\n",
    "df_train = df_c_file\n",
    "df_test = df_c_file_test"
   ]
  },
  {
   "cell_type": "code",
   "execution_count": 190,
   "metadata": {},
   "outputs": [
    {
     "name": "stdout",
     "output_type": "stream",
     "text": [
      "(595212, 59)\n",
      "(595212, 59)\n",
      "(892816, 58)\n",
      "(0, 0)\n",
      "(0, 0)\n"
     ]
    }
   ],
   "source": [
    "x_train = pd.DataFrame()\n",
    "x_test = pd.DataFrame()\n",
    "y_train = pd.DataFrame()\n",
    "y_test = pd.DataFrame()\n",
    "sub = pd.DataFrame()\n",
    "print(df_c_file.shape)\n",
    "print(df_train.shape)\n",
    "print(df_test.shape)\n",
    "print(x_train.shape)\n",
    "print(x_test.shape)\n"
   ]
  },
  {
   "cell_type": "code",
   "execution_count": 191,
   "metadata": {},
   "outputs": [
    {
     "data": {
      "text/plain": [
       "Index(['id', 'target', 'ps_ind_01', 'ps_ind_02_cat', 'ps_ind_03',\n",
       "       'ps_ind_04_cat', 'ps_ind_05_cat', 'ps_ind_06_bin', 'ps_ind_07_bin',\n",
       "       'ps_ind_08_bin', 'ps_ind_09_bin', 'ps_ind_10_bin', 'ps_ind_11_bin',\n",
       "       'ps_ind_12_bin', 'ps_ind_13_bin', 'ps_ind_14', 'ps_ind_15',\n",
       "       'ps_ind_16_bin', 'ps_ind_17_bin', 'ps_ind_18_bin', 'ps_reg_01',\n",
       "       'ps_reg_02', 'ps_reg_03', 'ps_car_01_cat', 'ps_car_02_cat',\n",
       "       'ps_car_03_cat', 'ps_car_04_cat', 'ps_car_05_cat', 'ps_car_06_cat',\n",
       "       'ps_car_07_cat', 'ps_car_08_cat', 'ps_car_09_cat', 'ps_car_10_cat',\n",
       "       'ps_car_11_cat', 'ps_car_11', 'ps_car_12', 'ps_car_13', 'ps_car_14',\n",
       "       'ps_car_15', 'ps_calc_01', 'ps_calc_02', 'ps_calc_03', 'ps_calc_04',\n",
       "       'ps_calc_05', 'ps_calc_06', 'ps_calc_07', 'ps_calc_08', 'ps_calc_09',\n",
       "       'ps_calc_10', 'ps_calc_11', 'ps_calc_12', 'ps_calc_13', 'ps_calc_14',\n",
       "       'ps_calc_15_bin', 'ps_calc_16_bin', 'ps_calc_17_bin', 'ps_calc_18_bin',\n",
       "       'ps_calc_19_bin', 'ps_calc_20_bin'],\n",
       "      dtype='object')"
      ]
     },
     "execution_count": 191,
     "metadata": {},
     "output_type": "execute_result"
    }
   ],
   "source": [
    "df_train.columns"
   ]
  },
  {
   "cell_type": "code",
   "execution_count": 192,
   "metadata": {},
   "outputs": [
    {
     "data": {
      "text/plain": [
       "0    360852\n",
       "1    234360\n",
       "Name: ps_ind_06_bin, dtype: int64"
      ]
     },
     "execution_count": 192,
     "metadata": {},
     "output_type": "execute_result"
    }
   ],
   "source": [
    "df_train.ps_ind_06_bin.value_counts()"
   ]
  },
  {
   "cell_type": "code",
   "execution_count": 193,
   "metadata": {},
   "outputs": [
    {
     "data": {
      "text/html": [
       "<div>\n",
       "<style>\n",
       "    .dataframe thead tr:only-child th {\n",
       "        text-align: right;\n",
       "    }\n",
       "\n",
       "    .dataframe thead th {\n",
       "        text-align: left;\n",
       "    }\n",
       "\n",
       "    .dataframe tbody tr th {\n",
       "        vertical-align: top;\n",
       "    }\n",
       "</style>\n",
       "<table border=\"1\" class=\"dataframe\">\n",
       "  <thead>\n",
       "    <tr style=\"text-align: right;\">\n",
       "      <th></th>\n",
       "      <th>id</th>\n",
       "      <th>target</th>\n",
       "      <th>ps_ind_01</th>\n",
       "      <th>ps_ind_02_cat</th>\n",
       "      <th>ps_ind_03</th>\n",
       "      <th>ps_ind_04_cat</th>\n",
       "      <th>ps_ind_05_cat</th>\n",
       "      <th>ps_ind_06_bin</th>\n",
       "      <th>ps_ind_07_bin</th>\n",
       "      <th>ps_ind_08_bin</th>\n",
       "      <th>...</th>\n",
       "      <th>ps_calc_11</th>\n",
       "      <th>ps_calc_12</th>\n",
       "      <th>ps_calc_13</th>\n",
       "      <th>ps_calc_14</th>\n",
       "      <th>ps_calc_15_bin</th>\n",
       "      <th>ps_calc_16_bin</th>\n",
       "      <th>ps_calc_17_bin</th>\n",
       "      <th>ps_calc_18_bin</th>\n",
       "      <th>ps_calc_19_bin</th>\n",
       "      <th>ps_calc_20_bin</th>\n",
       "    </tr>\n",
       "  </thead>\n",
       "  <tbody>\n",
       "    <tr>\n",
       "      <th>0</th>\n",
       "      <td>7</td>\n",
       "      <td>0</td>\n",
       "      <td>2</td>\n",
       "      <td>2</td>\n",
       "      <td>5</td>\n",
       "      <td>1</td>\n",
       "      <td>0</td>\n",
       "      <td>0</td>\n",
       "      <td>1</td>\n",
       "      <td>0</td>\n",
       "      <td>...</td>\n",
       "      <td>9</td>\n",
       "      <td>1</td>\n",
       "      <td>5</td>\n",
       "      <td>8</td>\n",
       "      <td>0</td>\n",
       "      <td>1</td>\n",
       "      <td>1</td>\n",
       "      <td>0</td>\n",
       "      <td>0</td>\n",
       "      <td>1</td>\n",
       "    </tr>\n",
       "    <tr>\n",
       "      <th>1</th>\n",
       "      <td>9</td>\n",
       "      <td>0</td>\n",
       "      <td>1</td>\n",
       "      <td>1</td>\n",
       "      <td>7</td>\n",
       "      <td>0</td>\n",
       "      <td>0</td>\n",
       "      <td>0</td>\n",
       "      <td>0</td>\n",
       "      <td>1</td>\n",
       "      <td>...</td>\n",
       "      <td>3</td>\n",
       "      <td>1</td>\n",
       "      <td>1</td>\n",
       "      <td>9</td>\n",
       "      <td>0</td>\n",
       "      <td>1</td>\n",
       "      <td>1</td>\n",
       "      <td>0</td>\n",
       "      <td>1</td>\n",
       "      <td>0</td>\n",
       "    </tr>\n",
       "    <tr>\n",
       "      <th>2</th>\n",
       "      <td>13</td>\n",
       "      <td>0</td>\n",
       "      <td>5</td>\n",
       "      <td>4</td>\n",
       "      <td>9</td>\n",
       "      <td>1</td>\n",
       "      <td>0</td>\n",
       "      <td>0</td>\n",
       "      <td>0</td>\n",
       "      <td>1</td>\n",
       "      <td>...</td>\n",
       "      <td>4</td>\n",
       "      <td>2</td>\n",
       "      <td>7</td>\n",
       "      <td>7</td>\n",
       "      <td>0</td>\n",
       "      <td>1</td>\n",
       "      <td>1</td>\n",
       "      <td>0</td>\n",
       "      <td>1</td>\n",
       "      <td>0</td>\n",
       "    </tr>\n",
       "  </tbody>\n",
       "</table>\n",
       "<p>3 rows × 59 columns</p>\n",
       "</div>"
      ],
      "text/plain": [
       "   id  target  ps_ind_01  ps_ind_02_cat  ps_ind_03  ps_ind_04_cat  \\\n",
       "0   7       0          2              2          5              1   \n",
       "1   9       0          1              1          7              0   \n",
       "2  13       0          5              4          9              1   \n",
       "\n",
       "   ps_ind_05_cat  ps_ind_06_bin  ps_ind_07_bin  ps_ind_08_bin       ...        \\\n",
       "0              0              0              1              0       ...         \n",
       "1              0              0              0              1       ...         \n",
       "2              0              0              0              1       ...         \n",
       "\n",
       "   ps_calc_11  ps_calc_12  ps_calc_13  ps_calc_14  ps_calc_15_bin  \\\n",
       "0           9           1           5           8               0   \n",
       "1           3           1           1           9               0   \n",
       "2           4           2           7           7               0   \n",
       "\n",
       "   ps_calc_16_bin  ps_calc_17_bin  ps_calc_18_bin  ps_calc_19_bin  \\\n",
       "0               1               1               0               0   \n",
       "1               1               1               0               1   \n",
       "2               1               1               0               1   \n",
       "\n",
       "   ps_calc_20_bin  \n",
       "0               1  \n",
       "1               0  \n",
       "2               0  \n",
       "\n",
       "[3 rows x 59 columns]"
      ]
     },
     "execution_count": 193,
     "metadata": {},
     "output_type": "execute_result"
    }
   ],
   "source": [
    "df_train.head(3)"
   ]
  },
  {
   "cell_type": "code",
   "execution_count": 194,
   "metadata": {
    "collapsed": true
   },
   "outputs": [],
   "source": [
    "ps_ind_05_cat_dummies_train = pd.get_dummies(df_train['ps_ind_05_cat'])\n",
    "ps_car_01_cat_dummies_train = pd.get_dummies(df_train['ps_car_01_cat'])\n",
    "ps_car_07_cat_dummies_train = pd.get_dummies(df_train['ps_car_07_cat'])\n",
    "ps_ind_17_bin_dummies_train = pd.get_dummies(df_train['ps_ind_17_bin'])\n",
    "ps_ind_16_bin_dummies_train = pd.get_dummies(df_train['ps_ind_16_bin'])\n",
    "ps_ind_07_bin_dummies_train = pd.get_dummies(df_train['ps_ind_07_bin'])\n",
    "ps_car_06_cat_dummies_train = pd.get_dummies(df_train['ps_car_06_cat'])\n",
    "ps_car_04_cat_dummies_train = pd.get_dummies(df_train['ps_car_04_cat'])\n",
    "ps_ind_06_bin_dummies_train = pd.get_dummies(df_train['ps_ind_06_bin'])\n",
    "ps_car_09_cat_dummies_train = pd.get_dummies(df_train['ps_car_09_cat'])\n",
    "ps_car_02_cat_dummies_train = pd.get_dummies(df_train['ps_car_02_cat'])\n",
    "ps_ind_02_cat_dummies_train = pd.get_dummies(df_train['ps_ind_02_cat'])\n",
    "ps_ind_08_bin_dummies_train = pd.get_dummies(df_train['ps_ind_08_bin'])\n",
    "ps_car_08_cat_dummies_train = pd.get_dummies(df_train['ps_car_08_cat'])\n",
    "ps_ind_09_bin_dummies_train = pd.get_dummies(df_train['ps_ind_09_bin'])\n",
    "ps_ind_04_cat_dummies_train = pd.get_dummies(df_train['ps_ind_04_cat'])\n",
    "ps_ind_18_bin_dummies_train = pd.get_dummies(df_train['ps_ind_18_bin'])\n",
    "ps_ind_12_bin_dummies_train = pd.get_dummies(df_train['ps_ind_12_bin'])\n",
    "#doubt features\n",
    "ps_calc_18_bin_dummies_train = pd.get_dummies(df_train['ps_calc_18_bin'])\n",
    "ps_ind_13_bin_dummies_train = pd.get_dummies(df_train['ps_ind_13_bin'])\n",
    "ps_calc_17_bin_dummies_train = pd.get_dummies(df_train['ps_calc_17_bin'])\n",
    "ps_car_10_cat_dummies_train = pd.get_dummies(df_train['ps_car_10_cat'])\n",
    "\n",
    "#ps_ind_10_bin_dummies_train = pd.get_dummies(df_train['ps_ind_10_bin'])\n",
    "#ps_ind_11_bin_dummies_train = pd.get_dummies(df_train['ps_ind_11_bin'])\n",
    "#ps_car_03_cat_dummies_train = pd.get_dummies(df_train['ps_car_03_cat'])\n",
    "#ps_car_05_cat_dummies_train = pd.get_dummies(df_train['ps_car_05_cat'])\n",
    "#ps_car_11_cat_dummies_train = pd.get_dummies(df_train['ps_car_11_cat'])\n",
    "#ps_calc_15_bin_dummies_train = pd.get_dummies(df_train['ps_calc_15_bin'])\n",
    "#ps_calc_16_bin_dummies_train = pd.get_dummies(df_train['ps_calc_16_bin'])\n",
    "#ps_calc_19_bin_dummies_train = pd.get_dummies(df_train['ps_calc_19_bin'])\n",
    "#ps_calc_20_bin_dummies_train = pd.get_dummies(df_train['ps_calc_20_bin'])"
   ]
  },
  {
   "cell_type": "code",
   "execution_count": 195,
   "metadata": {
    "collapsed": true
   },
   "outputs": [],
   "source": [
    "ps_ind_05_cat_dummies_test = pd.get_dummies(df_test['ps_ind_05_cat'])\n",
    "ps_car_01_cat_dummies_test = pd.get_dummies(df_test['ps_car_01_cat'])\n",
    "ps_car_07_cat_dummies_test = pd.get_dummies(df_test['ps_car_07_cat'])\n",
    "ps_ind_17_bin_dummies_test = pd.get_dummies(df_test['ps_ind_17_bin'])\n",
    "ps_ind_16_bin_dummies_test = pd.get_dummies(df_test['ps_ind_16_bin'])\n",
    "ps_ind_07_bin_dummies_test = pd.get_dummies(df_test['ps_ind_07_bin'])\n",
    "ps_car_06_cat_dummies_test = pd.get_dummies(df_test['ps_car_06_cat'])\n",
    "ps_car_04_cat_dummies_test = pd.get_dummies(df_test['ps_car_04_cat'])\n",
    "ps_ind_06_bin_dummies_test = pd.get_dummies(df_test['ps_ind_06_bin'])\n",
    "ps_car_09_cat_dummies_test = pd.get_dummies(df_test['ps_car_09_cat'])\n",
    "ps_car_02_cat_dummies_test = pd.get_dummies(df_test['ps_car_02_cat'])\n",
    "ps_ind_02_cat_dummies_test = pd.get_dummies(df_test['ps_ind_02_cat'])\n",
    "ps_ind_08_bin_dummies_test = pd.get_dummies(df_test['ps_ind_08_bin'])\n",
    "ps_car_08_cat_dummies_test = pd.get_dummies(df_test['ps_car_08_cat'])\n",
    "ps_ind_09_bin_dummies_test = pd.get_dummies(df_test['ps_ind_09_bin'])\n",
    "ps_ind_04_cat_dummies_test = pd.get_dummies(df_test['ps_ind_04_cat'])\n",
    "ps_ind_18_bin_dummies_test = pd.get_dummies(df_test['ps_ind_18_bin'])\n",
    "ps_ind_12_bin_dummies_test = pd.get_dummies(df_test['ps_ind_12_bin'])\n",
    "#doubt features\n",
    "ps_calc_18_bin_dummies_test = pd.get_dummies(df_test['ps_calc_18_bin'])\n",
    "ps_ind_13_bin_dummies_test = pd.get_dummies(df_test['ps_ind_13_bin'])\n",
    "ps_calc_17_bin_dummies_test = pd.get_dummies(df_test['ps_calc_17_bin'])\n",
    "ps_car_10_cat_dummies_test = pd.get_dummies(df_test['ps_car_10_cat'])\n",
    "\n",
    "#ps_ind_10_bin_dummies_test = pd.get_dummies(df_test['ps_ind_10_bin'])\n",
    "#ps_ind_11_bin_dummies_test = pd.get_dummies(df_test['ps_ind_11_bin'])\n",
    "#ps_car_03_cat_dummies_test = pd.get_dummies(df_test['ps_car_03_cat'])\n",
    "#ps_car_05_cat_dummies_test = pd.get_dummies(df_test['ps_car_05_cat'])\n",
    "#ps_car_11_cat_dummies_test = pd.get_dummies(df_test['ps_car_11_cat'])\n",
    "#ps_calc_15_bin_dummies_test = pd.get_dummies(df_test['ps_calc_15_bin'])\n",
    "#ps_calc_16_bin_dummies_test = pd.get_dummies(df_test['ps_calc_16_bin'])\n",
    "#ps_calc_19_bin_dummies_test = pd.get_dummies(df_test['ps_calc_19_bin'])\n",
    "#ps_calc_20_bin_dummies_test = pd.get_dummies(df_test['ps_calc_20_bin'])"
   ]
  },
  {
   "cell_type": "code",
   "execution_count": 196,
   "metadata": {
    "collapsed": true
   },
   "outputs": [],
   "source": [
    "ps_ind_02_cat_dummies_train.columns = ['cat1_-1', 'cat1_1','cat1_2','cat1_3','cat1_4']\n",
    "ps_ind_04_cat_dummies_train.columns = ['cat4_-1', 'cat4_0','cat4_1']\n",
    "ps_ind_05_cat_dummies_train.columns = ['cat5_-1', 'cat5_0','cat5_1', 'cat5_2','cat5_3', 'cat5_4','cat5_5', 'cat5_6']\n",
    "ps_ind_07_bin_dummies_train.columns = ['cat7_0', 'cat7_1']\n",
    "ps_ind_08_bin_dummies_train.columns = ['cat8_0', 'cat8_1']\n",
    "ps_ind_09_bin_dummies_train.columns = ['cat9_0', 'cat9_1']\n",
    "ps_ind_12_bin_dummies_train.columns = ['cat12_0', 'cat12_1']\n",
    "ps_ind_13_bin_dummies_train.columns = ['cat13_0', 'cat13_1']\n",
    "ps_ind_16_bin_dummies_train.columns = ['cat16_0', 'cat16_1']\n",
    "ps_ind_17_bin_dummies_train.columns = ['cat17_0', 'cat17_1']\n",
    "ps_ind_18_bin_dummies_train.columns = ['cat18_0', 'cat18_1']\n",
    "ps_car_01_cat_dummies_train.columns = ['car_01_-1', 'car_01_0', 'car_01_1', 'car_01_2', 'car_01_3', 'car_01_4', 'car_01_5', 'car_01_6', 'car_01_7', 'car_01_8', 'car_01_9', 'car_01_10', 'car_01_11']\n",
    "ps_car_02_cat_dummies_train.columns = ['car_02_-1', 'car_02_0', 'car_02_1']\n",
    "ps_car_04_cat_dummies_train.columns = ['car_04_0', 'car_04_1', 'car_04_2', 'car_04_3', 'car_04_4', 'car_04_5', 'car_04_6', 'car_04_7', 'car_04_8', 'car_04_9']\n",
    "ps_car_06_cat_dummies_train.columns = ['car_06_0', 'car_06_1', 'car_06_2', 'car_06_3', 'car_06_4', 'car_06_5', 'car_06_6', 'car_06_7', 'car_06_8', 'car_06_9', 'car_06_10', 'car_06_11', 'car_06_12', 'car_06_13', 'car_06_14', 'car_06_15', 'car_06_16', 'car_06_17']\n",
    "ps_car_07_cat_dummies_train.columns = ['car_07_-1', 'car_07_0', 'car_07_1']\n",
    "ps_car_08_cat_dummies_train.columns = ['car_08_0', 'car_08_1']\n",
    "ps_car_09_cat_dummies_train.columns = ['car_09_-1', 'car_09_0', 'car_09_1', 'car_09_2', 'car_09_3', 'car_09_4']\n",
    "ps_car_10_cat_dummies_train.columns = ['car_10_0', 'car_10_1', 'car_10_2']\n",
    "ps_calc_17_bin_dummies_train.columns = ['calc_17_0', 'calc_17_1']\n",
    "ps_calc_18_bin_dummies_train.columns = ['calc_18_0', 'calc_18_1']\n",
    "\n",
    "#ps_ind_11_bin_dummies_train.columns = ['cat11_0', 'cat11_1']\n",
    "#ps_ind_10_bin_dummies_train.columns = ['cat10_0', 'cat10_1']\n",
    "#ps_car_03_cat_dummies_train.columns = ['car_03_-1', 'car_03_0', 'car_03_1']\n",
    "#ps_calc_15_bin_dummies_train.columns = ['calc_15_0', 'calc_15_1']\n",
    "#ps_calc_16_bin_dummies_train.columns = ['calc_16_0', 'calc_16_1']\n",
    "#ps_calc_19_bin_dummies_train.columns = ['calc_19_0', 'calc_19_1']\n",
    "#ps_calc_20_bin_dummies_train.columns = ['calc_20_0', 'calc_20_1']\n",
    "#ps_car_05_cat_dummies_train.columns = ['car_05_-1', 'car_05_0', 'car_05_1']\n"
   ]
  },
  {
   "cell_type": "code",
   "execution_count": 197,
   "metadata": {
    "collapsed": true
   },
   "outputs": [],
   "source": [
    "ps_ind_02_cat_dummies_test.columns = ['cat1_-1', 'cat1_1','cat1_2','cat1_3','cat1_4']\n",
    "ps_ind_04_cat_dummies_test.columns = ['cat4_-1', 'cat4_0','cat4_1']\n",
    "ps_ind_05_cat_dummies_test.columns = ['cat5_-1', 'cat5_0','cat5_1', 'cat5_2','cat5_3', 'cat5_4','cat5_5', 'cat5_6']\n",
    "ps_ind_07_bin_dummies_test.columns = ['cat7_0', 'cat7_1']\n",
    "ps_ind_08_bin_dummies_test.columns = ['cat8_0', 'cat8_1']\n",
    "ps_ind_09_bin_dummies_test.columns = ['cat9_0', 'cat9_1']\n",
    "ps_ind_12_bin_dummies_test.columns = ['cat12_0', 'cat12_1']\n",
    "ps_ind_13_bin_dummies_test.columns = ['cat13_0', 'cat13_1']\n",
    "ps_ind_16_bin_dummies_test.columns = ['cat16_0', 'cat16_1']\n",
    "ps_ind_17_bin_dummies_test.columns = ['cat17_0', 'cat17_1']\n",
    "ps_ind_18_bin_dummies_test.columns = ['cat18_0', 'cat18_1']\n",
    "ps_car_01_cat_dummies_test.columns = ['car_01_-1', 'car_01_0', 'car_01_1', 'car_01_2', 'car_01_3', 'car_01_4', 'car_01_5', 'car_01_6', 'car_01_7', 'car_01_8', 'car_01_9', 'car_01_10', 'car_01_11']\n",
    "ps_car_02_cat_dummies_test.columns = ['car_02_-1', 'car_02_0', 'car_02_1']\n",
    "ps_car_04_cat_dummies_test.columns = ['car_04_0', 'car_04_1', 'car_04_2', 'car_04_3', 'car_04_4', 'car_04_5', 'car_04_6', 'car_04_7', 'car_04_8', 'car_04_9']\n",
    "ps_car_06_cat_dummies_test.columns = ['car_06_0', 'car_06_1', 'car_06_2', 'car_06_3', 'car_06_4', 'car_06_5', 'car_06_6', 'car_06_7', 'car_06_8', 'car_06_9', 'car_06_10', 'car_06_11', 'car_06_12', 'car_06_13', 'car_06_14', 'car_06_15', 'car_06_16', 'car_06_17']\n",
    "ps_car_07_cat_dummies_test.columns = ['car_07_-1', 'car_07_0', 'car_07_1']\n",
    "ps_car_08_cat_dummies_test.columns = ['car_08_0', 'car_08_1']\n",
    "ps_car_09_cat_dummies_test.columns = ['car_09_-1', 'car_09_0', 'car_09_1', 'car_09_2', 'car_09_3', 'car_09_4']\n",
    "ps_car_10_cat_dummies_test.columns = ['car_10_0', 'car_10_1', 'car_10_2']\n",
    "ps_calc_17_bin_dummies_test.columns = ['calc_17_0', 'calc_17_1']\n",
    "ps_calc_18_bin_dummies_test.columns = ['calc_18_0', 'calc_18_1']\n",
    "\n",
    "#ps_ind_11_bin_dummies_test.columns = ['cat11_0', 'cat11_1']\n",
    "#ps_ind_10_bin_dummies_test.columns = ['cat10_0', 'cat10_1']\n",
    "#ps_car_03_cat_dummies_test.columns = ['car_03_-1', 'car_03_0', 'car_03_1']\n",
    "#ps_calc_15_bin_dummies_test.columns = ['calc_15_0', 'calc_15_1']\n",
    "#ps_calc_16_bin_dummies_test.columns = ['calc_16_0', 'calc_16_1']\n",
    "#ps_calc_19_bin_dummies_test.columns = ['calc_19_0', 'calc_19_1']\n",
    "#ps_calc_20_bin_dummies_test.columns = ['calc_20_0', 'calc_20_1']\n",
    "#ps_car_05_cat_dummies_test.columns = ['car_05_-1', 'car_05_0', 'car_05_1']\n"
   ]
  },
  {
   "cell_type": "code",
   "execution_count": 198,
   "metadata": {},
   "outputs": [],
   "source": [
    "#x_train['id'] = df_train['id']\n",
    "x_train['ps_car_13'] = df_train['ps_car_13']\n",
    "x_train['ps_ind_03'] = df_train['ps_ind_03']\n",
    "x_train['ps_ind_15'] = df_train['ps_ind_15']\n",
    "x_train['ps_reg_02'] = df_train['ps_reg_02']\n",
    "x_train['ps_car_12'] = df_train['ps_car_12']\n",
    "x_train['ps_reg_01'] = df_train['ps_reg_01']\n",
    "x_train['ps_car_15'] = df_train['ps_car_15']\n",
    "x_train['ps_ind_01'] = df_train['ps_ind_01']\n",
    "x_train['ps_car_11'] = df_train['ps_car_11']\n",
    "x_train['ps_calc_09'] = df_train['ps_calc_09']\n",
    "x_train['ps_calc_05'] = df_train['ps_calc_05']\n",
    "x_train['ps_ind_14'] = df_train['ps_ind_14']\n",
    "#suspicious\n",
    "x_train['ps_calc_10'] = df_train['ps_calc_10']\n",
    "x_train['ps_calc_01'] = df_train['ps_calc_01']\n",
    "x_train['ps_calc_02'] = df_train['ps_calc_02']\n",
    "x_train['ps_calc_03'] = df_train['ps_calc_03']\n",
    "x_train['ps_calc_13'] = df_train['ps_calc_13']\n",
    "x_train['ps_calc_08'] = df_train['ps_calc_08']\n",
    "x_train['ps_calc_07'] = df_train['ps_calc_07']\n",
    "x_train['ps_calc_12'] = df_train['ps_calc_12']\n",
    "x_train['ps_calc_04'] = df_train['ps_calc_04']\n",
    "\n",
    "#x_train['ps_car_14'] = df_train['ps_car_14']\n",
    "#x_train['ps_reg_03'] = df_train['ps_reg_03']\n",
    "#x_train['ps_calc_06'] = df_train['ps_calc_06']\n",
    "#x_train['ps_calc_11'] = df_train['ps_calc_11']\n",
    "#x_train['ps_calc_14'] = df_train['ps_calc_14']\n",
    "#x_train['target'] = df_train['target']"
   ]
  },
  {
   "cell_type": "code",
   "execution_count": 199,
   "metadata": {},
   "outputs": [],
   "source": [
    "#x_test['id'] = df_test['id']\n",
    "x_test['ps_car_13'] = df_test['ps_car_13']\n",
    "x_test['ps_ind_03'] = df_test['ps_ind_03']\n",
    "x_test['ps_ind_15'] = df_test['ps_ind_15']\n",
    "x_test['ps_reg_02'] = df_test['ps_reg_02']\n",
    "x_test['ps_car_12'] = df_test['ps_car_12']\n",
    "x_test['ps_reg_01'] = df_test['ps_reg_01']\n",
    "x_test['ps_car_15'] = df_test['ps_car_15']\n",
    "x_test['ps_ind_01'] = df_test['ps_ind_01']\n",
    "x_test['ps_car_11'] = df_test['ps_car_11']\n",
    "x_test['ps_calc_09'] = df_test['ps_calc_09']\n",
    "x_test['ps_calc_05'] = df_test['ps_calc_05']\n",
    "x_test['ps_ind_14'] = df_test['ps_ind_14']\n",
    "#suspicious\n",
    "x_test['ps_calc_10'] = df_test['ps_calc_10']\n",
    "x_test['ps_calc_01'] = df_test['ps_calc_01']\n",
    "x_test['ps_calc_02'] = df_test['ps_calc_02']\n",
    "x_test['ps_calc_03'] = df_test['ps_calc_03']\n",
    "x_test['ps_calc_13'] = df_test['ps_calc_13']\n",
    "x_test['ps_calc_08'] = df_test['ps_calc_08']\n",
    "x_test['ps_calc_07'] = df_test['ps_calc_07']\n",
    "x_test['ps_calc_12'] = df_test['ps_calc_12']\n",
    "x_test['ps_calc_04'] = df_test['ps_calc_04']\n",
    "\n",
    "#x_test['ps_car_14'] = df_test['ps_car_14']\n",
    "#x_test['ps_reg_03'] = df_test['ps_reg_03']\n",
    "#x_test['ps_calc_06'] = df_test['ps_calc_06']\n",
    "#x_test['ps_calc_11'] = df_test['ps_calc_11']\n",
    "#x_test['ps_calc_14'] = df_test['ps_calc_14']\n",
    "#x_test['target'] = df_test['target']"
   ]
  },
  {
   "cell_type": "code",
   "execution_count": 200,
   "metadata": {
    "collapsed": true
   },
   "outputs": [],
   "source": [
    "x_train=pd.concat([x_train,ps_ind_02_cat_dummies_train, ps_ind_04_cat_dummies_train, ps_ind_05_cat_dummies_train, \n",
    "                   ps_ind_07_bin_dummies_train, ps_ind_08_bin_dummies_train, ps_ind_09_bin_dummies_train,\n",
    "                   ps_ind_12_bin_dummies_train, ps_ind_13_bin_dummies_train, ps_ind_16_bin_dummies_train, \n",
    "                   ps_ind_17_bin_dummies_train, ps_ind_18_bin_dummies_train, ps_car_01_cat_dummies_train, \n",
    "                   ps_car_02_cat_dummies_train, ps_car_04_cat_dummies_train, ps_car_06_cat_dummies_train, \n",
    "                   ps_car_07_cat_dummies_train, ps_car_08_cat_dummies_train, ps_car_09_cat_dummies_train, \n",
    "                   ps_car_10_cat_dummies_train, ps_calc_17_bin_dummies_train,ps_calc_18_bin_dummies_train,], \n",
    "                  axis=1, join_axes=[x_train.index])"
   ]
  },
  {
   "cell_type": "code",
   "execution_count": 201,
   "metadata": {
    "collapsed": true
   },
   "outputs": [],
   "source": [
    "x_test=pd.concat([x_test,ps_ind_02_cat_dummies_test, ps_ind_04_cat_dummies_test, ps_ind_05_cat_dummies_test, \n",
    "                   ps_ind_07_bin_dummies_test, ps_ind_08_bin_dummies_test, ps_ind_09_bin_dummies_test,\n",
    "                   ps_ind_12_bin_dummies_test, ps_ind_13_bin_dummies_test, ps_ind_16_bin_dummies_test, \n",
    "                   ps_ind_17_bin_dummies_test, ps_ind_18_bin_dummies_test, ps_car_01_cat_dummies_test, \n",
    "                   ps_car_02_cat_dummies_test, ps_car_04_cat_dummies_test, ps_car_06_cat_dummies_test, \n",
    "                   ps_car_07_cat_dummies_test, ps_car_08_cat_dummies_test, ps_car_09_cat_dummies_test, \n",
    "                   ps_car_10_cat_dummies_test, ps_calc_17_bin_dummies_test,ps_calc_18_bin_dummies_test,], \n",
    "                  axis=1, join_axes=[x_test.index])"
   ]
  },
  {
   "cell_type": "code",
   "execution_count": 202,
   "metadata": {
    "collapsed": true
   },
   "outputs": [],
   "source": [
    "y_train = pd.DataFrame()\n",
    "y_test = pd.DataFrame()\n",
    "temp_train = pd.DataFrame()"
   ]
  },
  {
   "cell_type": "code",
   "execution_count": 203,
   "metadata": {},
   "outputs": [
    {
     "data": {
      "text/plain": [
       "(0, 0)"
      ]
     },
     "execution_count": 203,
     "metadata": {},
     "output_type": "execute_result"
    }
   ],
   "source": [
    "temp_train.shape"
   ]
  },
  {
   "cell_type": "code",
   "execution_count": 204,
   "metadata": {
    "collapsed": true
   },
   "outputs": [],
   "source": [
    "temp_train['target'] = df_train['target']"
   ]
  },
  {
   "cell_type": "code",
   "execution_count": 205,
   "metadata": {},
   "outputs": [
    {
     "data": {
      "text/html": [
       "<div>\n",
       "<style>\n",
       "    .dataframe thead tr:only-child th {\n",
       "        text-align: right;\n",
       "    }\n",
       "\n",
       "    .dataframe thead th {\n",
       "        text-align: left;\n",
       "    }\n",
       "\n",
       "    .dataframe tbody tr th {\n",
       "        vertical-align: top;\n",
       "    }\n",
       "</style>\n",
       "<table border=\"1\" class=\"dataframe\">\n",
       "  <thead>\n",
       "    <tr style=\"text-align: right;\">\n",
       "      <th></th>\n",
       "    </tr>\n",
       "  </thead>\n",
       "  <tbody>\n",
       "  </tbody>\n",
       "</table>\n",
       "</div>"
      ],
      "text/plain": [
       "Empty DataFrame\n",
       "Columns: []\n",
       "Index: []"
      ]
     },
     "execution_count": 205,
     "metadata": {},
     "output_type": "execute_result"
    }
   ],
   "source": [
    "y_train.head(3)"
   ]
  },
  {
   "cell_type": "code",
   "execution_count": 206,
   "metadata": {},
   "outputs": [
    {
     "data": {
      "text/plain": [
       "(0, 0)"
      ]
     },
     "execution_count": 206,
     "metadata": {},
     "output_type": "execute_result"
    }
   ],
   "source": [
    "y_train.shape"
   ]
  },
  {
   "cell_type": "code",
   "execution_count": 207,
   "metadata": {
    "collapsed": true
   },
   "outputs": [],
   "source": [
    "y_train=temp_train"
   ]
  },
  {
   "cell_type": "code",
   "execution_count": 208,
   "metadata": {
    "collapsed": true
   },
   "outputs": [],
   "source": [
    "y_train = df_train['target']"
   ]
  },
  {
   "cell_type": "code",
   "execution_count": 213,
   "metadata": {},
   "outputs": [
    {
     "name": "stdout",
     "output_type": "stream",
     "text": [
      "[0]\ttrain-rmse:0.474266\n",
      "Will train until train-rmse hasn't improved in 10 rounds.\n",
      "[100]\ttrain-rmse:0.185513\n",
      "[200]\ttrain-rmse:0.184565\n",
      "[300]\ttrain-rmse:0.183792\n",
      "[400]\ttrain-rmse:0.183092\n",
      "[500]\ttrain-rmse:0.18245\n",
      "[600]\ttrain-rmse:0.181786\n",
      "[700]\ttrain-rmse:0.181062\n",
      "[800]\ttrain-rmse:0.180297\n",
      "[900]\ttrain-rmse:0.179545\n",
      "[1000]\ttrain-rmse:0.178848\n",
      "[1100]\ttrain-rmse:0.178158\n",
      "[1200]\ttrain-rmse:0.177455\n",
      "[1300]\ttrain-rmse:0.176822\n",
      "[1400]\ttrain-rmse:0.176276\n",
      "[1500]\ttrain-rmse:0.175831\n",
      "[1600]\ttrain-rmse:0.175201\n",
      "[1700]\ttrain-rmse:0.174538\n",
      "[1800]\ttrain-rmse:0.17391\n",
      "[1900]\ttrain-rmse:0.17327\n",
      "[1999]\ttrain-rmse:0.172586\n"
     ]
    }
   ],
   "source": [
    "import xgboost as xgb\n",
    "\n",
    "# Set our parameters for xgboost\n",
    "params = {}\n",
    "params['objective'] = 'reg:logistic'\n",
    "#params['objective'] = 'binary:logistic'\n",
    "#params['eval_metric'] = 'rmse'\n",
    "params['eval_metric'] = 'rmse'\n",
    "params['eta'] = 0.06\n",
    "params['max_depth'] = 6\n",
    "params['scale_pos_weight'] = 0.97\n",
    "#params['max_delta_step'] = 1\n",
    "d_train = xgb.DMatrix(x_train, label=y_train)\n",
    "\n",
    "watchlist = [(d_train, 'train')]\n",
    "\n",
    "safe_driv_predict = xgb.train(params, d_train, 2000, watchlist, early_stopping_rounds=10, verbose_eval=100)"
   ]
  },
  {
   "cell_type": "code",
   "execution_count": 210,
   "metadata": {
    "collapsed": true
   },
   "outputs": [],
   "source": [
    "d_test = xgb.DMatrix(x_test)\n",
    "d_train = xgb.DMatrix(x_train)\n",
    "target_test = safe_driv_predict.predict(d_test)\n",
    "target_train = safe_driv_predict.predict(d_train)"
   ]
  },
  {
   "cell_type": "code",
   "execution_count": 211,
   "metadata": {
    "collapsed": true
   },
   "outputs": [],
   "source": [
    "target_test.shape\n",
    "#L = list(d_test)\n",
    "df_test ['predict_target'] = pd.DataFrame(target_test)\n",
    "df_train ['predict_target'] = pd.DataFrame(target_train)"
   ]
  },
  {
   "cell_type": "code",
   "execution_count": 212,
   "metadata": {},
   "outputs": [
    {
     "data": {
      "text/html": [
       "<div>\n",
       "<style>\n",
       "    .dataframe thead tr:only-child th {\n",
       "        text-align: right;\n",
       "    }\n",
       "\n",
       "    .dataframe thead th {\n",
       "        text-align: left;\n",
       "    }\n",
       "\n",
       "    .dataframe tbody tr th {\n",
       "        vertical-align: top;\n",
       "    }\n",
       "</style>\n",
       "<table border=\"1\" class=\"dataframe\">\n",
       "  <thead>\n",
       "    <tr style=\"text-align: right;\">\n",
       "      <th></th>\n",
       "      <th>id</th>\n",
       "      <th>target</th>\n",
       "    </tr>\n",
       "  </thead>\n",
       "  <tbody>\n",
       "    <tr>\n",
       "      <th>0</th>\n",
       "      <td>0</td>\n",
       "      <td>0.032510</td>\n",
       "    </tr>\n",
       "    <tr>\n",
       "      <th>1</th>\n",
       "      <td>1</td>\n",
       "      <td>0.022886</td>\n",
       "    </tr>\n",
       "    <tr>\n",
       "      <th>2</th>\n",
       "      <td>2</td>\n",
       "      <td>0.023179</td>\n",
       "    </tr>\n",
       "    <tr>\n",
       "      <th>3</th>\n",
       "      <td>3</td>\n",
       "      <td>0.014275</td>\n",
       "    </tr>\n",
       "    <tr>\n",
       "      <th>4</th>\n",
       "      <td>4</td>\n",
       "      <td>0.032769</td>\n",
       "    </tr>\n",
       "  </tbody>\n",
       "</table>\n",
       "</div>"
      ],
      "text/plain": [
       "   id    target\n",
       "0   0  0.032510\n",
       "1   1  0.022886\n",
       "2   2  0.023179\n",
       "3   3  0.014275\n",
       "4   4  0.032769"
      ]
     },
     "execution_count": 212,
     "metadata": {},
     "output_type": "execute_result"
    }
   ],
   "source": [
    "sub['id'] = df_test['id']\n",
    "sub['target'] = pd.DataFrame(target_test)\n",
    "sub.head()"
   ]
  },
  {
   "cell_type": "code",
   "execution_count": 187,
   "metadata": {},
   "outputs": [
    {
     "name": "stdout",
     "output_type": "stream",
     "text": [
      "hello\n"
     ]
    }
   ],
   "source": [
    "\n",
    "sub.to_csv('D://Kaggle/train/predict_0.csv', index=False)\n",
    "#x_test.to_csv('D://Kaggle/train/x_test_new.csv', index=False)\n",
    "\n",
    "print (\"hello\")"
   ]
  },
  {
   "cell_type": "code",
   "execution_count": null,
   "metadata": {
    "collapsed": true
   },
   "outputs": [],
   "source": [
    "print('running cross validation, disable standard deviation display')\n",
    "# do cross validation, this will print result out as\n",
    "# [iteration]  metric_name:mean_value\n",
    "res = xgb.cv(params, dtrain, num_boost_round=10, nfold=5,\n",
    "             metrics={'error'}, seed=0,\n",
    "             callbacks=[xgb.callback.print_evaluation(show_stdv=False),\n",
    "                        xgb.callback.early_stop(3)])\n",
    "print(res)\n",
    "print('running cross validation, with preprocessing function')"
   ]
  },
  {
   "cell_type": "code",
   "execution_count": null,
   "metadata": {
    "collapsed": true
   },
   "outputs": [],
   "source": [
    "\n",
    "\n",
    "# define the preprocessing function\n",
    "# used to return the preprocessed training, test data, and parameter\n",
    "# we can use this to do weight rescale, etc.\n",
    "# as a example, we try to set scale_pos_weight\n",
    "def fpreproc(dtrain, dtest, param):\n",
    "    label = dtrain.get_label()\n",
    "    ratio = float(np.sum(label == 0)) / np.sum(label == 1)\n",
    "    param['scale_pos_weight'] = ratio\n",
    "    return (dtrain, dtest, param)\n",
    "\n",
    "# do cross validation, for each fold\n",
    "# the dtrain, dtest, param will be passed into fpreproc\n",
    "# then the return value of fpreproc will be used to generate\n",
    "# results of that fold\n",
    "xgb.cv(param, dtrain, num_round, nfold=5,\n",
    "       metrics={'auc'}, seed=0, fpreproc=fpreproc)\n",
    "\n",
    "###\n",
    "# you can also do cross validation with cutomized loss function\n",
    "# See custom_objective.py\n",
    "##\n",
    "print('running cross validation, with cutomsized loss function')\n",
    "def logregobj(preds, dtrain):\n",
    "    labels = dtrain.get_label()\n",
    "    preds = 1.0 / (1.0 + np.exp(-preds))\n",
    "    grad = preds - labels\n",
    "    hess = preds * (1.0 - preds)\n",
    "    return grad, hess\n",
    "def evalerror(preds, dtrain):\n",
    "    labels = dtrain.get_label()\n",
    "    return 'error', float(sum(labels != (preds > 0.0))) / len(labels)\n",
    "\n",
    "param = {'max_depth':2, 'eta':1, 'silent':1}\n",
    "# train with customized objective\n",
    "xgb.cv(param, dtrain, num_round, nfold=5, seed=0,\n",
    "       obj=logregobj, feval=evalerror)"
   ]
  },
  {
   "cell_type": "code",
   "execution_count": 92,
   "metadata": {
    "collapsed": true
   },
   "outputs": [],
   "source": [
    "#### R Fields\n",
    "x_train['ps_ind_03'] = df_train['ps_ind_03']\n",
    "x_train['ps_ind_15'] = df_train['ps_ind_15']\n",
    "x_train['ps_reg_01'] = df_train['ps_reg_01']\n",
    "x_train['ps_reg_02'] = df_train['ps_reg_02']\n",
    "x_train['ps_reg_03'] = df_train['ps_reg_03']\n",
    "x_train['ps_car_13'] = df_train['ps_car_13']\n",
    "x_train['ps_car_15'] = df_train['ps_car_15']\n",
    "x_train['ps_calc_08'] = df_train['ps_calc_08']\n",
    "ps_ind_07_bin_dummies_train = pd.get_dummies(df_train['ps_ind_07_bin'])\n",
    "ps_ind_08_bin_dummies_train = pd.get_dummies(df_train['ps_ind_08_bin'])\n",
    "ps_ind_17_bin_dummies_train = pd.get_dummies(df_train['ps_ind_17_bin'])\n",
    "ps_car_01_cat_dummies_train = pd.get_dummies(df_train['ps_car_01_cat'])\n",
    "ps_car_03_cat_dummies_train = pd.get_dummies(df_train['ps_car_03_cat'])\n",
    "ps_car_04_cat_dummies_train = pd.get_dummies(df_train['ps_car_04_cat'])\n",
    "ps_car_07_cat_dummies_train = pd.get_dummies(df_train['ps_car_07_cat'])\n",
    "\n",
    "ps_ind_07_bin_dummies_train.columns = ['cat7_0', 'cat7_1']\n",
    "ps_ind_08_bin_dummies_train.columns = ['cat8_0', 'cat8_1']\n",
    "ps_calc_17_bin_dummies_train.columns = ['calc_17_0', 'calc_17_1']\n",
    "ps_car_01_cat_dummies_train.columns = ['car_01_-1', 'car_01_0', 'car_01_1', 'car_01_2', 'car_01_3', 'car_01_4', 'car_01_5', 'car_01_6', 'car_01_7', 'car_01_8', 'car_01_9', 'car_01_10', 'car_01_11']\n",
    "ps_car_03_cat_dummies_train.columns = ['car_03_-1', 'car_03_0', 'car_03_1']\n",
    "ps_car_04_cat_dummies_train.columns = ['car_04_0', 'car_04_1', 'car_04_2', 'car_04_3', 'car_04_4', 'car_04_5', 'car_04_6', 'car_04_7', 'car_04_8', 'car_04_9']\n",
    "ps_car_07_cat_dummies_train.columns = ['car_07_-1', 'car_07_0', 'car_07_1']\n",
    "\n",
    "x_train=pd.concat([x_train,ps_ind_07_bin_dummies_train,ps_ind_08_bin_dummies_train,ps_ind_17_bin_dummies_train,\n",
    "                   ps_car_01_cat_dummies_train,ps_car_03_cat_dummies_train,ps_car_04_cat_dummies_train,\n",
    "                   ps_car_07_cat_dummies_train,], \n",
    "                  axis=1, join_axes=[x_train.index])\n",
    "\n"
   ]
  },
  {
   "cell_type": "code",
   "execution_count": 93,
   "metadata": {
    "collapsed": true
   },
   "outputs": [],
   "source": [
    "#### R Fields\n",
    "x_test['ps_ind_03'] = df_test['ps_ind_03']\n",
    "x_test['ps_ind_15'] = df_test['ps_ind_15']\n",
    "x_test['ps_reg_01'] = df_test['ps_reg_01']\n",
    "x_test['ps_reg_02'] = df_test['ps_reg_02']\n",
    "x_test['ps_reg_03'] = df_test['ps_reg_03']\n",
    "x_test['ps_car_13'] = df_test['ps_car_13']\n",
    "x_test['ps_car_15'] = df_test['ps_car_15']\n",
    "x_test['ps_calc_08'] = df_test['ps_calc_08']\n",
    "ps_ind_07_bin_dummies_test = pd.get_dummies(df_test['ps_ind_07_bin'])\n",
    "ps_ind_08_bin_dummies_test = pd.get_dummies(df_test['ps_ind_08_bin'])\n",
    "ps_ind_17_bin_dummies_test = pd.get_dummies(df_test['ps_ind_17_bin'])\n",
    "ps_car_01_cat_dummies_test = pd.get_dummies(df_test['ps_car_01_cat'])\n",
    "ps_car_03_cat_dummies_test = pd.get_dummies(df_test['ps_car_03_cat'])\n",
    "ps_car_04_cat_dummies_test = pd.get_dummies(df_test['ps_car_04_cat'])\n",
    "ps_car_07_cat_dummies_test = pd.get_dummies(df_test['ps_car_07_cat'])\n",
    "\n",
    "ps_ind_07_bin_dummies_test.columns = ['cat7_0', 'cat7_1']\n",
    "ps_ind_08_bin_dummies_test.columns = ['cat8_0', 'cat8_1']\n",
    "ps_calc_17_bin_dummies_test.columns = ['calc_17_0', 'calc_17_1']\n",
    "ps_car_01_cat_dummies_test.columns = ['car_01_-1', 'car_01_0', 'car_01_1', 'car_01_2', 'car_01_3', 'car_01_4', 'car_01_5', 'car_01_6', 'car_01_7', 'car_01_8', 'car_01_9', 'car_01_10', 'car_01_11']\n",
    "ps_car_03_cat_dummies_test.columns = ['car_03_-1', 'car_03_0', 'car_03_1']\n",
    "ps_car_04_cat_dummies_test.columns = ['car_04_0', 'car_04_1', 'car_04_2', 'car_04_3', 'car_04_4', 'car_04_5', 'car_04_6', 'car_04_7', 'car_04_8', 'car_04_9']\n",
    "ps_car_07_cat_dummies_test.columns = ['car_07_-1', 'car_07_0', 'car_07_1']\n",
    "\n",
    "x_test=pd.concat([x_test,ps_ind_07_bin_dummies_test,ps_ind_08_bin_dummies_test,ps_ind_17_bin_dummies_test,\n",
    "                   ps_car_01_cat_dummies_test,ps_car_03_cat_dummies_test,ps_car_04_cat_dummies_test,\n",
    "                   ps_car_07_cat_dummies_test,], \n",
    "                  axis=1, join_axes=[x_test.index])\n",
    "\n"
   ]
  },
  {
   "cell_type": "code",
   "execution_count": null,
   "metadata": {
    "collapsed": true
   },
   "outputs": [],
   "source": []
  }
 ],
 "metadata": {
  "kernelspec": {
   "display_name": "Python 3",
   "language": "python",
   "name": "python3"
  },
  "language_info": {
   "codemirror_mode": {
    "name": "ipython",
    "version": 3
   },
   "file_extension": ".py",
   "mimetype": "text/x-python",
   "name": "python",
   "nbconvert_exporter": "python",
   "pygments_lexer": "ipython3",
   "version": "3.6.1"
  }
 },
 "nbformat": 4,
 "nbformat_minor": 2
}
